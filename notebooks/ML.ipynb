{
 "cells": [
  {
   "cell_type": "markdown",
   "metadata": {},
   "source": [
    "# Beautiful numbers - ML"
   ]
  },
  {
   "cell_type": "markdown",
   "metadata": {},
   "source": [
    "## Load libraries and data"
   ]
  },
  {
   "cell_type": "code",
   "execution_count": 90,
   "metadata": {},
   "outputs": [],
   "source": [
    "# pandas + numpy\n",
    "import pandas as pd\n",
    "import numpy as np\n",
    "\n",
    "# visualization\n",
    "import seaborn as sns\n",
    "import matplotlib.pyplot as plt\n",
    "\n",
    "# statsmodels\n",
    "import statsmodels.formula.api as smf\n",
    "import statsmodels.api as sm\n",
    "\n",
    "\n",
    "#sklearn\n",
    "from sklearn.model_selection import train_test_split\n",
    "\n",
    "# functions\n",
    "import sys\n",
    "# append the path of the parent directory\n",
    "sys.path.append(\"..\")\n",
    "from functions import *\n",
    "\n"
   ]
  },
  {
   "cell_type": "code",
   "execution_count": 63,
   "metadata": {},
   "outputs": [],
   "source": [
    "# prepare data\n",
    "features = pd.read_csv('../data/beauty_metrics.csv', dtype={'str_n':str})\n",
    "target = pd.read_csv('../data/venta_por_nr.csv')\n",
    "\n",
    "# Tune the parameters of the model to improve the R²\n",
    "features = features.drop(columns = ['n', 'str_n', 'is_odd', 'start_digit', 'repeat_sum', 'has_repeated_digits','repeat_max', 'repeat_digit_count', 'dist_digits_count', 'ends_00', 'starts_00', 'is_prime', 'starts_15'])\n",
    "\n",
    "# get dummies \n",
    "features = pd.get_dummies(features, columns=['repeat_consec_max'], drop_first=True)\n",
    "\n",
    "target = target['median']\n",
    "\n",
    "X_train, X_test, y_train, y_test = train_test_split(features, target, test_size = 0.30, random_state=42)\n"
   ]
  },
  {
   "cell_type": "code",
   "execution_count": 56,
   "metadata": {},
   "outputs": [
    {
     "data": {
      "text/plain": [
       "Index(['ends_0', 'ends_13', 'ends_15', 'ends_5', 'ends_69', 'ends_7',\n",
       "       'ends_prime', 'odd_count', 'starts_0', 'starts_13',\n",
       "       'has_repeated_digits', 'is_date', 'is_palindrome', 'is_postal_code',\n",
       "       'is_series', 'repeat_sum_7', 'repeat_sum_9', 'repeat_sum_11',\n",
       "       'repeat_sum_13', 'repeat_sum_17', 'repeat_sum_25'],\n",
       "      dtype='object')"
      ]
     },
     "execution_count": 56,
     "metadata": {},
     "output_type": "execute_result"
    }
   ],
   "source": [
    "features.columns"
   ]
  },
  {
   "cell_type": "markdown",
   "metadata": {},
   "source": [
    "## Models"
   ]
  },
  {
   "cell_type": "markdown",
   "metadata": {},
   "source": [
    "### Linear Regression"
   ]
  },
  {
   "cell_type": "code",
   "execution_count": 64,
   "metadata": {},
   "outputs": [
    {
     "name": "stdout",
     "output_type": "stream",
     "text": [
      "                 Generalized Linear Model Regression Results                  \n",
      "==============================================================================\n",
      "Dep. Variable:                 median   No. Observations:               100000\n",
      "Model:                            GLM   Df Residuals:                    99981\n",
      "Model Family:                Binomial   Df Model:                           18\n",
      "Link Function:                  Logit   Scale:                          1.0000\n",
      "Method:                          IRLS   Log-Likelihood:                -32703.\n",
      "Date:                Mon, 21 Oct 2024   Deviance:                       14873.\n",
      "Time:                        14:52:23   Pearson chi2:                 1.55e+04\n",
      "No. Iterations:                     8   Pseudo R-squ. (CS):            0.09050\n",
      "Covariance Type:            nonrobust                                         \n",
      "===============================================================================================\n",
      "                                  coef    std err          z      P>|z|      [0.025      0.975]\n",
      "-----------------------------------------------------------------------------------------------\n",
      "Intercept                       1.6700      0.024     69.399      0.000       1.623       1.717\n",
      "ends_0[T.True]                 -0.5884      0.026    -22.400      0.000      -0.640      -0.537\n",
      "ends_13[T.True]                 3.4738      0.348      9.977      0.000       2.791       4.156\n",
      "ends_15[T.True]                 0.6066      0.152      3.997      0.000       0.309       0.904\n",
      "ends_5[T.True]                  0.9242      0.039     23.965      0.000       0.849       1.000\n",
      "ends_69[T.True]                 1.2300      0.129      9.562      0.000       0.978       1.482\n",
      "ends_7[T.True]                  0.9923      0.038     26.197      0.000       0.918       1.067\n",
      "ends_prime[T.True]             -0.0423      0.022     -1.925      0.054      -0.085       0.001\n",
      "starts_0[T.True]               -1.1069      0.027    -41.538      0.000      -1.159      -1.055\n",
      "starts_13[T.True]               0.7999      0.126      6.348      0.000       0.553       1.047\n",
      "is_date[T.True]                 0.1990      0.020      9.974      0.000       0.160       0.238\n",
      "is_palindrome[T.True]           0.2061      0.094      2.199      0.028       0.022       0.390\n",
      "is_postal_code[T.True]          0.1898      0.028      6.722      0.000       0.134       0.245\n",
      "is_series[T.True]               0.9422      0.994      0.948      0.343      -1.006       2.890\n",
      "repeat_consec_max_2[T.True]    -0.6497      0.018    -36.546      0.000      -0.685      -0.615\n",
      "repeat_consec_max_3[T.True]    -2.7327      0.046    -59.632      0.000      -2.822      -2.643\n",
      "repeat_consec_max_4[T.True]    -2.7842      0.170    -16.354      0.000      -3.118      -2.451\n",
      "repeat_consec_max_5[T.True]     1.1281      1.450      0.778      0.436      -1.713       3.969\n",
      "odd_count                       0.0301      0.008      3.765      0.000       0.014       0.046\n",
      "===============================================================================================\n"
     ]
    }
   ],
   "source": [
    "df = pd.concat([features, target], axis=1)\n",
    "all_columns = \"+\".join(features.columns)\n",
    "res = smf.glm(formula=\"median ~\" + all_columns, data=df, family=sm.families.Binomial()).fit()\n",
    "print(res.summary())"
   ]
  },
  {
   "cell_type": "code",
   "execution_count": 65,
   "metadata": {},
   "outputs": [
    {
     "name": "stdout",
     "output_type": "stream",
     "text": [
      "                                    5%        95%  Odds Ratio\n",
      "Intercept                     5.067676   5.568984    5.312420\n",
      "ends_0[T.True]                0.527331   0.584528    0.555193\n",
      "ends_13[T.True]              16.303060  63.825848   32.257660\n",
      "ends_15[T.True]               1.362263   2.469768    1.834250\n",
      "ends_5[T.True]                2.336381   2.717654    2.519816\n",
      "ends_69[T.True]               2.658794   4.402334    3.421242\n",
      "ends_7[T.True]                2.504533   2.905461    2.697559\n",
      "ends_prime[T.True]            0.918203   1.000766    0.958596\n",
      "starts_0[T.True]              0.313749   0.348297    0.330572\n",
      "starts_13[T.True]             1.738337   2.848853    2.225369\n",
      "is_date[T.True]               1.173373   1.268816    1.220162\n",
      "is_palindrome[T.True]         1.022679   1.476713    1.228903\n",
      "is_postal_code[T.True]        1.143934   1.277847    1.209037\n",
      "is_series[T.True]             0.365618  18.002158    2.565525\n",
      "repeat_consec_max_2[T.True]   0.504302   0.540701    0.522184\n",
      "repeat_consec_max_3[T.True]   0.059457   0.071157    0.065045\n",
      "repeat_consec_max_4[T.True]   0.044251   0.086248    0.061778\n",
      "repeat_consec_max_5[T.True]   0.180349  52.939447    3.089913\n",
      "odd_count                     1.014559   1.046904    1.030605\n"
     ]
    }
   ],
   "source": [
    "params = res.params \n",
    "conf = res.conf_int() \n",
    "conf['Odds Ratio'] = params \n",
    "conf.columns = ['5%', '95%', 'Odds Ratio'] \n",
    "print(np.exp(conf))"
   ]
  },
  {
   "cell_type": "code",
   "execution_count": 66,
   "metadata": {},
   "outputs": [
    {
     "name": "stdout",
     "output_type": "stream",
     "text": [
      "MAE:  0.10762879292517351\n",
      "RMSE:  0.15092569490307217\n",
      "R2:  0.42302573459391696\n"
     ]
    }
   ],
   "source": [
    "pred = res.predict(features)\n",
    "\n",
    "print(\"MAE: \", mean_absolute_error(pred, target))\n",
    "print(\"RMSE: \", root_mean_squared_error(pred, target))\n",
    "#print(\"R2 score\", res.score(features, target))\n",
    "\n",
    "# find the correlation between pred and target\n",
    "print(\"R2: \", (np.corrcoef(pred, target)[1][0])**2)\n"
   ]
  },
  {
   "cell_type": "markdown",
   "metadata": {},
   "source": [
    "### ML models"
   ]
  },
  {
   "cell_type": "code",
   "execution_count": 89,
   "metadata": {},
   "outputs": [
    {
     "name": "stdout",
     "output_type": "stream",
     "text": [
      "Decision Tree\n",
      "MAE 0.10544065004930772\n",
      "RMSE 0.14977252296692506\n",
      "r22:  -0.22784834145641875\n",
      "R2 score 0.44739450889117893 \n",
      "\n",
      "Random Forest\n",
      "MAE 0.10537794834736616\n",
      "RMSE 0.14957560127248945\n",
      "r22:  -0.22773109939911085\n",
      "R2 score 0.4488466907594033 \n",
      "\n",
      "Linear Regressor\n",
      "MAE 0.11110038783225182\n",
      "RMSE 0.1552732130639922\n",
      "r22:  -0.5571637087198473\n",
      "R2 score 0.40605807174008457 \n",
      "\n",
      "KNN\n",
      "MAE 0.11560561727198455\n",
      "RMSE 0.16465746625759456\n",
      "r22:  -0.3071130600238259\n",
      "R2 score 0.3320964356197985 \n",
      "\n",
      "Bagging Regressor\n",
      "MAE 0.10687444212069029\n",
      "RMSE 0.1506141895511086\n",
      "r22:  -0.32436874562205253\n",
      "R2 score 0.44116617756070087 \n",
      "\n",
      "Gradient Boosting Regressor\n",
      "MAE 0.10521859695012961\n",
      "RMSE 0.14923866060070465\n",
      "r22:  -0.2341503728515022\n",
      "R2 score 0.4513269990439366 \n",
      "\n",
      "AdaBoostRegressor\n",
      "MAE 0.21196892263171818\n",
      "RMSE 0.2473469974707134\n",
      "r22:  -2.194404782670887\n",
      "R2 score -0.5071767654214143 \n",
      "\n",
      "xgb_reg\n",
      "MAE 0.1054102512441464\n",
      "RMSE 0.14970768900883283\n",
      "r22:  -0.22780342029491663\n",
      "R2 score 0.44787283223067076 \n",
      "\n"
     ]
    }
   ],
   "source": [
    "## sklearn\n",
    "compare_models(X_train, y_train, X_test, y_test)"
   ]
  }
 ],
 "metadata": {
  "kernelspec": {
   "display_name": ".venv",
   "language": "python",
   "name": "python3"
  },
  "language_info": {
   "codemirror_mode": {
    "name": "ipython",
    "version": 3
   },
   "file_extension": ".py",
   "mimetype": "text/x-python",
   "name": "python",
   "nbconvert_exporter": "python",
   "pygments_lexer": "ipython3",
   "version": "3.12.4"
  }
 },
 "nbformat": 4,
 "nbformat_minor": 2
}
